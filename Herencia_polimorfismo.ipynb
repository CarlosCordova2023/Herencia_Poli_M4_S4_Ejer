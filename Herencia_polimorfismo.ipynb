{
  "nbformat": 4,
  "nbformat_minor": 0,
  "metadata": {
    "colab": {
      "provenance": [],
      "authorship_tag": "ABX9TyOTnIFJr+nIt2ESm1q5qhQM",
      "include_colab_link": true
    },
    "kernelspec": {
      "name": "python3",
      "display_name": "Python 3"
    },
    "language_info": {
      "name": "python"
    }
  },
  "cells": [
    {
      "cell_type": "markdown",
      "metadata": {
        "id": "view-in-github",
        "colab_type": "text"
      },
      "source": [
        "<a href=\"https://colab.research.google.com/github/CarlosCordova2023/Herencia_Poli_M4_S4_Ejer/blob/main/Herencia_polimorfismo.ipynb\" target=\"_parent\"><img src=\"https://colab.research.google.com/assets/colab-badge.svg\" alt=\"Open In Colab\"/></a>"
      ]
    },
    {
      "cell_type": "code",
      "execution_count": 2,
      "metadata": {
        "colab": {
          "base_uri": "https://localhost:8080/"
        },
        "id": "zSKT1RD5OFmR",
        "outputId": "76e7cb2e-9012-410e-e4a8-0a0a2650f2ee"
      },
      "outputs": [
        {
          "output_type": "stream",
          "name": "stdout",
          "text": [
            "{'autor': 'Dan Brown', 'titulo': 'Infierno'}\n",
            "{'autor': 'Dan Brown', 'titulo': 'El Código Da Vinci', 'ann_de_publicacion': 2003}\n"
          ]
        }
      ],
      "source": [
        "# Creo una clase sin los datos para instanciar a futuro\n",
        "class Libro:\n",
        "    pass\n",
        "\n",
        "libro_1 = Libro()\n",
        "libro_2 = Libro()\n",
        "\n",
        "libro_1.autor = 'Dan Brown'\n",
        "libro_1.titulo = 'Infierno'\n",
        "\n",
        "libro_2.autor = 'Dan Brown'\n",
        "libro_2.titulo = 'El Código Da Vinci'\n",
        "libro_2.ann_de_publicacion = 2003\n",
        "\n",
        "# Imprimir el valor del atributo __dict__ de libro_1 y libro_2\n",
        "print(libro_1.__dict__)\n",
        "print(libro_2.__dict__)\n"
      ]
    }
  ]
}